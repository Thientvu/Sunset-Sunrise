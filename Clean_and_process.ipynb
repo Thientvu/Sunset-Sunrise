{
 "cells": [
  {
   "cell_type": "code",
   "execution_count": 217,
   "metadata": {},
   "outputs": [],
   "source": [
    "import pandas as pd\n",
    "import numpy as np\n",
    "import matplotlib.pyplot as plt \n",
    "import seaborn as sns "
   ]
  },
  {
   "cell_type": "markdown",
   "metadata": {},
   "source": [
    "# Read and Prepare the data"
   ]
  },
  {
   "cell_type": "code",
   "execution_count": 218,
   "metadata": {},
   "outputs": [],
   "source": [
    "# Read in the data (csv files)\n",
    "state_park_df = pd.read_csv('Raw_data/state_park_df.csv')\n",
    "state_park_time_date = pd.read_csv('Raw_data/state_park_time_date.csv')"
   ]
  },
  {
   "cell_type": "markdown",
   "metadata": {},
   "source": [
    "## state_park_df"
   ]
  },
  {
   "cell_type": "code",
   "execution_count": 219,
   "metadata": {},
   "outputs": [
    {
     "data": {
      "text/plain": [
       "(279, 9)"
      ]
     },
     "execution_count": 219,
     "metadata": {},
     "output_type": "execute_result"
    }
   ],
   "source": [
    "state_park_df.shape"
   ]
  },
  {
   "cell_type": "code",
   "execution_count": 220,
   "metadata": {},
   "outputs": [],
   "source": [
    "num_uncleanned_rows_state_park_df = state_park_df.shape[0]"
   ]
  },
  {
   "cell_type": "code",
   "execution_count": 221,
   "metadata": {},
   "outputs": [
    {
     "name": "stdout",
     "output_type": "stream",
     "text": [
      "<class 'pandas.core.frame.DataFrame'>\n",
      "RangeIndex: 279 entries, 0 to 278\n",
      "Data columns (total 9 columns):\n",
      " #   Column            Non-Null Count  Dtype  \n",
      "---  ------            --------------  -----  \n",
      " 0   State Park        279 non-null    object \n",
      " 1   Classification    279 non-null    object \n",
      " 2   County            279 non-null    object \n",
      " 3   Size (acres)      275 non-null    float64\n",
      " 4   Size (ha)         275 non-null    object \n",
      " 5   Year established  278 non-null    object \n",
      " 6   Remarks           154 non-null    object \n",
      " 7   Latitude          255 non-null    float64\n",
      " 8   Longitude         255 non-null    float64\n",
      "dtypes: float64(3), object(6)\n",
      "memory usage: 19.7+ KB\n"
     ]
    }
   ],
   "source": [
    "state_park_df.info()"
   ]
  },
  {
   "cell_type": "code",
   "execution_count": 222,
   "metadata": {},
   "outputs": [
    {
     "data": {
      "text/html": [
       "<div>\n",
       "<style scoped>\n",
       "    .dataframe tbody tr th:only-of-type {\n",
       "        vertical-align: middle;\n",
       "    }\n",
       "\n",
       "    .dataframe tbody tr th {\n",
       "        vertical-align: top;\n",
       "    }\n",
       "\n",
       "    .dataframe thead th {\n",
       "        text-align: right;\n",
       "    }\n",
       "</style>\n",
       "<table border=\"1\" class=\"dataframe\">\n",
       "  <thead>\n",
       "    <tr style=\"text-align: right;\">\n",
       "      <th></th>\n",
       "      <th>State Park</th>\n",
       "      <th>Classification</th>\n",
       "      <th>County</th>\n",
       "      <th>Size (acres)</th>\n",
       "      <th>Size (ha)</th>\n",
       "      <th>Year established</th>\n",
       "      <th>Remarks</th>\n",
       "      <th>Latitude</th>\n",
       "      <th>Longitude</th>\n",
       "    </tr>\n",
       "  </thead>\n",
       "  <tbody>\n",
       "    <tr>\n",
       "      <th>0</th>\n",
       "      <td>Admiral William Standley State Recreation Area</td>\n",
       "      <td>State recreation area</td>\n",
       "      <td>Mendocino</td>\n",
       "      <td>45.0</td>\n",
       "      <td>18</td>\n",
       "      <td>1944</td>\n",
       "      <td>Boasts redwoods plus salmon and steelhead fish...</td>\n",
       "      <td>39.6464</td>\n",
       "      <td>-123.6169</td>\n",
       "    </tr>\n",
       "    <tr>\n",
       "      <th>1</th>\n",
       "      <td>Ahjumawi Lava Springs State Park</td>\n",
       "      <td>State park</td>\n",
       "      <td>Shasta</td>\n",
       "      <td>5930.0</td>\n",
       "      <td>2400</td>\n",
       "      <td>1975</td>\n",
       "      <td>Preserves a wilderness of freshwater springs a...</td>\n",
       "      <td>41.1361</td>\n",
       "      <td>-121.4178</td>\n",
       "    </tr>\n",
       "    <tr>\n",
       "      <th>2</th>\n",
       "      <td>Albany State Marine Reserve</td>\n",
       "      <td>Park property</td>\n",
       "      <td>Alameda</td>\n",
       "      <td>NaN</td>\n",
       "      <td>NaN</td>\n",
       "      <td>1985</td>\n",
       "      <td>NaN</td>\n",
       "      <td>37.8869</td>\n",
       "      <td>-122.2978</td>\n",
       "    </tr>\n",
       "    <tr>\n",
       "      <th>3</th>\n",
       "      <td>Anderson Marsh State Historic Park</td>\n",
       "      <td>State historic park</td>\n",
       "      <td>Lake</td>\n",
       "      <td>1298.0</td>\n",
       "      <td>525</td>\n",
       "      <td>1982</td>\n",
       "      <td>Preserves a tule marsh and ancient archaeologi...</td>\n",
       "      <td>38.9236</td>\n",
       "      <td>-122.6250</td>\n",
       "    </tr>\n",
       "    <tr>\n",
       "      <th>4</th>\n",
       "      <td>Andrew Molera State Park</td>\n",
       "      <td>State park</td>\n",
       "      <td>Monterey</td>\n",
       "      <td>4766.0</td>\n",
       "      <td>1929</td>\n",
       "      <td>1968</td>\n",
       "      <td>Offers a primitive walk-in campground on the B...</td>\n",
       "      <td>36.2833</td>\n",
       "      <td>-121.8333</td>\n",
       "    </tr>\n",
       "  </tbody>\n",
       "</table>\n",
       "</div>"
      ],
      "text/plain": [
       "                                       State Park         Classification  \\\n",
       "0  Admiral William Standley State Recreation Area  State recreation area   \n",
       "1                Ahjumawi Lava Springs State Park             State park   \n",
       "2                     Albany State Marine Reserve          Park property   \n",
       "3              Anderson Marsh State Historic Park    State historic park   \n",
       "4                        Andrew Molera State Park             State park   \n",
       "\n",
       "      County  Size (acres) Size (ha) Year established  \\\n",
       "0  Mendocino          45.0        18             1944   \n",
       "1     Shasta        5930.0      2400             1975   \n",
       "2    Alameda           NaN       NaN             1985   \n",
       "3       Lake        1298.0       525             1982   \n",
       "4   Monterey        4766.0      1929             1968   \n",
       "\n",
       "                                             Remarks  Latitude  Longitude  \n",
       "0  Boasts redwoods plus salmon and steelhead fish...   39.6464  -123.6169  \n",
       "1  Preserves a wilderness of freshwater springs a...   41.1361  -121.4178  \n",
       "2                                                NaN   37.8869  -122.2978  \n",
       "3  Preserves a tule marsh and ancient archaeologi...   38.9236  -122.6250  \n",
       "4  Offers a primitive walk-in campground on the B...   36.2833  -121.8333  "
      ]
     },
     "execution_count": 222,
     "metadata": {},
     "output_type": "execute_result"
    }
   ],
   "source": [
    "state_park_df.head()"
   ]
  },
  {
   "cell_type": "markdown",
   "metadata": {},
   "source": [
    "## state_park_time_data"
   ]
  },
  {
   "cell_type": "code",
   "execution_count": 223,
   "metadata": {},
   "outputs": [
    {
     "data": {
      "text/plain": [
       "(82715, 17)"
      ]
     },
     "execution_count": 223,
     "metadata": {},
     "output_type": "execute_result"
    }
   ],
   "source": [
    "state_park_time_date.shape"
   ]
  },
  {
   "cell_type": "code",
   "execution_count": 224,
   "metadata": {},
   "outputs": [],
   "source": [
    "num_uncleanned_rows_state_park_time_date = state_park_time_date.shape[0]"
   ]
  },
  {
   "cell_type": "code",
   "execution_count": 225,
   "metadata": {},
   "outputs": [
    {
     "name": "stdout",
     "output_type": "stream",
     "text": [
      "<class 'pandas.core.frame.DataFrame'>\n",
      "RangeIndex: 82715 entries, 0 to 82714\n",
      "Data columns (total 17 columns):\n",
      " #   Column                         Non-Null Count  Dtype  \n",
      "---  ------                         --------------  -----  \n",
      " 0   State Park                     82715 non-null  object \n",
      " 1   Date                           82715 non-null  object \n",
      " 2   Sunrise (Time)                 82715 non-null  object \n",
      " 3   Sunrise (Angle)                82715 non-null  int64  \n",
      " 4   Sunset (Time)                  82715 non-null  object \n",
      " 5   Sunset (Angle)                 82715 non-null  int64  \n",
      " 6   Daylength (Length)             82715 non-null  object \n",
      " 7   Daylength (Diff.)              82715 non-null  object \n",
      " 8   Astronomical Twilight (Start)  82715 non-null  object \n",
      " 9   Astronomical Twilight (End)    82715 non-null  object \n",
      " 10  Nautical Twilight (Start)      82715 non-null  object \n",
      " 11  Nautical Twilight (End)        82715 non-null  object \n",
      " 12  Civil Twilight (Start)         82715 non-null  object \n",
      " 13  Civil Twilight (End)           82715 non-null  object \n",
      " 14  Solar Noon (Time)              82715 non-null  object \n",
      " 15  Solar Noon (Angle)             82715 non-null  float64\n",
      " 16  Solar Noon (Mil. mi)           82715 non-null  float64\n",
      "dtypes: float64(2), int64(2), object(13)\n",
      "memory usage: 10.7+ MB\n"
     ]
    }
   ],
   "source": [
    "state_park_time_date.info()"
   ]
  },
  {
   "cell_type": "code",
   "execution_count": 226,
   "metadata": {},
   "outputs": [
    {
     "data": {
      "text/html": [
       "<div>\n",
       "<style scoped>\n",
       "    .dataframe tbody tr th:only-of-type {\n",
       "        vertical-align: middle;\n",
       "    }\n",
       "\n",
       "    .dataframe tbody tr th {\n",
       "        vertical-align: top;\n",
       "    }\n",
       "\n",
       "    .dataframe thead th {\n",
       "        text-align: right;\n",
       "    }\n",
       "</style>\n",
       "<table border=\"1\" class=\"dataframe\">\n",
       "  <thead>\n",
       "    <tr style=\"text-align: right;\">\n",
       "      <th></th>\n",
       "      <th>State Park</th>\n",
       "      <th>Date</th>\n",
       "      <th>Sunrise (Time)</th>\n",
       "      <th>Sunrise (Angle)</th>\n",
       "      <th>Sunset (Time)</th>\n",
       "      <th>Sunset (Angle)</th>\n",
       "      <th>Daylength (Length)</th>\n",
       "      <th>Daylength (Diff.)</th>\n",
       "      <th>Astronomical Twilight (Start)</th>\n",
       "      <th>Astronomical Twilight (End)</th>\n",
       "      <th>Nautical Twilight (Start)</th>\n",
       "      <th>Nautical Twilight (End)</th>\n",
       "      <th>Civil Twilight (Start)</th>\n",
       "      <th>Civil Twilight (End)</th>\n",
       "      <th>Solar Noon (Time)</th>\n",
       "      <th>Solar Noon (Angle)</th>\n",
       "      <th>Solar Noon (Mil. mi)</th>\n",
       "    </tr>\n",
       "  </thead>\n",
       "  <tbody>\n",
       "    <tr>\n",
       "      <th>0</th>\n",
       "      <td>Admiral William Standley State Recreation Area</td>\n",
       "      <td>2024-01-01</td>\n",
       "      <td>7:35 am</td>\n",
       "      <td>120</td>\n",
       "      <td>5:00 pm</td>\n",
       "      <td>240</td>\n",
       "      <td>9:25:32</td>\n",
       "      <td>+0:39</td>\n",
       "      <td>5:58 am</td>\n",
       "      <td>6:37 pm</td>\n",
       "      <td>6:31 am</td>\n",
       "      <td>6:04 pm</td>\n",
       "      <td>7:05 am</td>\n",
       "      <td>5:30 pm</td>\n",
       "      <td>12:17 pm</td>\n",
       "      <td>27.4</td>\n",
       "      <td>91.404</td>\n",
       "    </tr>\n",
       "    <tr>\n",
       "      <th>1</th>\n",
       "      <td>Admiral William Standley State Recreation Area</td>\n",
       "      <td>2024-01-02</td>\n",
       "      <td>7:35 am</td>\n",
       "      <td>120</td>\n",
       "      <td>5:01 pm</td>\n",
       "      <td>240</td>\n",
       "      <td>9:26:15</td>\n",
       "      <td>+0:42</td>\n",
       "      <td>5:58 am</td>\n",
       "      <td>6:38 pm</td>\n",
       "      <td>6:31 am</td>\n",
       "      <td>6:05 pm</td>\n",
       "      <td>7:05 am</td>\n",
       "      <td>5:31 pm</td>\n",
       "      <td>12:18 pm</td>\n",
       "      <td>27.5</td>\n",
       "      <td>91.404</td>\n",
       "    </tr>\n",
       "    <tr>\n",
       "      <th>2</th>\n",
       "      <td>Admiral William Standley State Recreation Area</td>\n",
       "      <td>2024-01-03</td>\n",
       "      <td>7:35 am</td>\n",
       "      <td>119</td>\n",
       "      <td>5:02 pm</td>\n",
       "      <td>241</td>\n",
       "      <td>9:27:01</td>\n",
       "      <td>+0:46</td>\n",
       "      <td>5:58 am</td>\n",
       "      <td>6:39 pm</td>\n",
       "      <td>6:31 am</td>\n",
       "      <td>6:06 pm</td>\n",
       "      <td>7:05 am</td>\n",
       "      <td>5:32 pm</td>\n",
       "      <td>12:18 pm</td>\n",
       "      <td>27.6</td>\n",
       "      <td>91.404</td>\n",
       "    </tr>\n",
       "    <tr>\n",
       "      <th>3</th>\n",
       "      <td>Admiral William Standley State Recreation Area</td>\n",
       "      <td>2024-01-04</td>\n",
       "      <td>7:35 am</td>\n",
       "      <td>119</td>\n",
       "      <td>5:03 pm</td>\n",
       "      <td>241</td>\n",
       "      <td>9:27:51</td>\n",
       "      <td>+0:50</td>\n",
       "      <td>5:59 am</td>\n",
       "      <td>6:39 pm</td>\n",
       "      <td>6:31 am</td>\n",
       "      <td>6:07 pm</td>\n",
       "      <td>7:05 am</td>\n",
       "      <td>5:33 pm</td>\n",
       "      <td>12:19 pm</td>\n",
       "      <td>27.7</td>\n",
       "      <td>91.405</td>\n",
       "    </tr>\n",
       "    <tr>\n",
       "      <th>4</th>\n",
       "      <td>Admiral William Standley State Recreation Area</td>\n",
       "      <td>2024-01-05</td>\n",
       "      <td>7:35 am</td>\n",
       "      <td>119</td>\n",
       "      <td>5:04 pm</td>\n",
       "      <td>241</td>\n",
       "      <td>9:28:45</td>\n",
       "      <td>+0:53</td>\n",
       "      <td>5:59 am</td>\n",
       "      <td>6:40 pm</td>\n",
       "      <td>6:31 am</td>\n",
       "      <td>6:07 pm</td>\n",
       "      <td>7:05 am</td>\n",
       "      <td>5:34 pm</td>\n",
       "      <td>12:19 pm</td>\n",
       "      <td>27.8</td>\n",
       "      <td>91.406</td>\n",
       "    </tr>\n",
       "  </tbody>\n",
       "</table>\n",
       "</div>"
      ],
      "text/plain": [
       "                                       State Park        Date Sunrise (Time)  \\\n",
       "0  Admiral William Standley State Recreation Area  2024-01-01        7:35 am   \n",
       "1  Admiral William Standley State Recreation Area  2024-01-02        7:35 am   \n",
       "2  Admiral William Standley State Recreation Area  2024-01-03        7:35 am   \n",
       "3  Admiral William Standley State Recreation Area  2024-01-04        7:35 am   \n",
       "4  Admiral William Standley State Recreation Area  2024-01-05        7:35 am   \n",
       "\n",
       "   Sunrise (Angle) Sunset (Time)  Sunset (Angle) Daylength (Length)  \\\n",
       "0              120       5:00 pm             240            9:25:32   \n",
       "1              120       5:01 pm             240            9:26:15   \n",
       "2              119       5:02 pm             241            9:27:01   \n",
       "3              119       5:03 pm             241            9:27:51   \n",
       "4              119       5:04 pm             241            9:28:45   \n",
       "\n",
       "  Daylength (Diff.) Astronomical Twilight (Start) Astronomical Twilight (End)  \\\n",
       "0             +0:39                       5:58 am                     6:37 pm   \n",
       "1             +0:42                       5:58 am                     6:38 pm   \n",
       "2             +0:46                       5:58 am                     6:39 pm   \n",
       "3             +0:50                       5:59 am                     6:39 pm   \n",
       "4             +0:53                       5:59 am                     6:40 pm   \n",
       "\n",
       "  Nautical Twilight (Start) Nautical Twilight (End) Civil Twilight (Start)  \\\n",
       "0                   6:31 am                 6:04 pm                7:05 am   \n",
       "1                   6:31 am                 6:05 pm                7:05 am   \n",
       "2                   6:31 am                 6:06 pm                7:05 am   \n",
       "3                   6:31 am                 6:07 pm                7:05 am   \n",
       "4                   6:31 am                 6:07 pm                7:05 am   \n",
       "\n",
       "  Civil Twilight (End) Solar Noon (Time)  Solar Noon (Angle)  \\\n",
       "0              5:30 pm          12:17 pm                27.4   \n",
       "1              5:31 pm          12:18 pm                27.5   \n",
       "2              5:32 pm          12:18 pm                27.6   \n",
       "3              5:33 pm          12:19 pm                27.7   \n",
       "4              5:34 pm          12:19 pm                27.8   \n",
       "\n",
       "   Solar Noon (Mil. mi)  \n",
       "0                91.404  \n",
       "1                91.404  \n",
       "2                91.404  \n",
       "3                91.405  \n",
       "4                91.406  "
      ]
     },
     "execution_count": 226,
     "metadata": {},
     "output_type": "execute_result"
    }
   ],
   "source": [
    "state_park_time_date.head()"
   ]
  },
  {
   "cell_type": "markdown",
   "metadata": {},
   "source": [
    "# Clean and Process the data"
   ]
  },
  {
   "cell_type": "markdown",
   "metadata": {},
   "source": [
    "### state_park_df"
   ]
  },
  {
   "cell_type": "code",
   "execution_count": 227,
   "metadata": {},
   "outputs": [
    {
     "data": {
      "text/html": [
       "<div>\n",
       "<style scoped>\n",
       "    .dataframe tbody tr th:only-of-type {\n",
       "        vertical-align: middle;\n",
       "    }\n",
       "\n",
       "    .dataframe tbody tr th {\n",
       "        vertical-align: top;\n",
       "    }\n",
       "\n",
       "    .dataframe thead th {\n",
       "        text-align: right;\n",
       "    }\n",
       "</style>\n",
       "<table border=\"1\" class=\"dataframe\">\n",
       "  <thead>\n",
       "    <tr style=\"text-align: right;\">\n",
       "      <th></th>\n",
       "      <th>State Park</th>\n",
       "      <th>Classification</th>\n",
       "      <th>County</th>\n",
       "      <th>Size (acres)</th>\n",
       "      <th>Size (ha)</th>\n",
       "      <th>Year established</th>\n",
       "      <th>Remarks</th>\n",
       "      <th>Latitude</th>\n",
       "      <th>Longitude</th>\n",
       "    </tr>\n",
       "  </thead>\n",
       "  <tbody>\n",
       "    <tr>\n",
       "      <th>0</th>\n",
       "      <td>Admiral William Standley State Recreation Area</td>\n",
       "      <td>State recreation area</td>\n",
       "      <td>Mendocino</td>\n",
       "      <td>45.0</td>\n",
       "      <td>18</td>\n",
       "      <td>1944</td>\n",
       "      <td>Boasts redwoods plus salmon and steelhead fish...</td>\n",
       "      <td>39.6464</td>\n",
       "      <td>-123.6169</td>\n",
       "    </tr>\n",
       "    <tr>\n",
       "      <th>1</th>\n",
       "      <td>Ahjumawi Lava Springs State Park</td>\n",
       "      <td>State park</td>\n",
       "      <td>Shasta</td>\n",
       "      <td>5930.0</td>\n",
       "      <td>2400</td>\n",
       "      <td>1975</td>\n",
       "      <td>Preserves a wilderness of freshwater springs a...</td>\n",
       "      <td>41.1361</td>\n",
       "      <td>-121.4178</td>\n",
       "    </tr>\n",
       "    <tr>\n",
       "      <th>2</th>\n",
       "      <td>Albany State Marine Reserve</td>\n",
       "      <td>Park property</td>\n",
       "      <td>Alameda</td>\n",
       "      <td>NaN</td>\n",
       "      <td>NaN</td>\n",
       "      <td>1985</td>\n",
       "      <td>NaN</td>\n",
       "      <td>37.8869</td>\n",
       "      <td>-122.2978</td>\n",
       "    </tr>\n",
       "    <tr>\n",
       "      <th>3</th>\n",
       "      <td>Anderson Marsh State Historic Park</td>\n",
       "      <td>State historic park</td>\n",
       "      <td>Lake</td>\n",
       "      <td>1298.0</td>\n",
       "      <td>525</td>\n",
       "      <td>1982</td>\n",
       "      <td>Preserves a tule marsh and ancient archaeologi...</td>\n",
       "      <td>38.9236</td>\n",
       "      <td>-122.6250</td>\n",
       "    </tr>\n",
       "    <tr>\n",
       "      <th>4</th>\n",
       "      <td>Andrew Molera State Park</td>\n",
       "      <td>State park</td>\n",
       "      <td>Monterey</td>\n",
       "      <td>4766.0</td>\n",
       "      <td>1929</td>\n",
       "      <td>1968</td>\n",
       "      <td>Offers a primitive walk-in campground on the B...</td>\n",
       "      <td>36.2833</td>\n",
       "      <td>-121.8333</td>\n",
       "    </tr>\n",
       "  </tbody>\n",
       "</table>\n",
       "</div>"
      ],
      "text/plain": [
       "                                       State Park         Classification  \\\n",
       "0  Admiral William Standley State Recreation Area  State recreation area   \n",
       "1                Ahjumawi Lava Springs State Park             State park   \n",
       "2                     Albany State Marine Reserve          Park property   \n",
       "3              Anderson Marsh State Historic Park    State historic park   \n",
       "4                        Andrew Molera State Park             State park   \n",
       "\n",
       "      County  Size (acres) Size (ha) Year established  \\\n",
       "0  Mendocino          45.0        18             1944   \n",
       "1     Shasta        5930.0      2400             1975   \n",
       "2    Alameda           NaN       NaN             1985   \n",
       "3       Lake        1298.0       525             1982   \n",
       "4   Monterey        4766.0      1929             1968   \n",
       "\n",
       "                                             Remarks  Latitude  Longitude  \n",
       "0  Boasts redwoods plus salmon and steelhead fish...   39.6464  -123.6169  \n",
       "1  Preserves a wilderness of freshwater springs a...   41.1361  -121.4178  \n",
       "2                                                NaN   37.8869  -122.2978  \n",
       "3  Preserves a tule marsh and ancient archaeologi...   38.9236  -122.6250  \n",
       "4  Offers a primitive walk-in campground on the B...   36.2833  -121.8333  "
      ]
     },
     "execution_count": 227,
     "metadata": {},
     "output_type": "execute_result"
    }
   ],
   "source": [
    "state_park_df.head()"
   ]
  },
  {
   "cell_type": "code",
   "execution_count": 228,
   "metadata": {},
   "outputs": [
    {
     "data": {
      "text/plain": [
       "State Park           object\n",
       "Classification       object\n",
       "County               object\n",
       "Size (acres)        float64\n",
       "Size (ha)            object\n",
       "Year established     object\n",
       "Remarks              object\n",
       "Latitude            float64\n",
       "Longitude           float64\n",
       "dtype: object"
      ]
     },
     "execution_count": 228,
     "metadata": {},
     "output_type": "execute_result"
    }
   ],
   "source": [
    "state_park_df.dtypes"
   ]
  },
  {
   "cell_type": "markdown",
   "metadata": {},
   "source": [
    "### Check the null value percentages of all the columns"
   ]
  },
  {
   "cell_type": "code",
   "execution_count": 229,
   "metadata": {},
   "outputs": [
    {
     "data": {
      "text/plain": [
       "State Park          0.000000\n",
       "Classification      0.000000\n",
       "County              0.000000\n",
       "Size (acres)        0.014337\n",
       "Size (ha)           0.014337\n",
       "Year established    0.003584\n",
       "Remarks             0.448029\n",
       "Latitude            0.086022\n",
       "Longitude           0.086022\n",
       "dtype: float64"
      ]
     },
     "execution_count": 229,
     "metadata": {},
     "output_type": "execute_result"
    }
   ],
   "source": [
    "state_park_df.isnull().sum()/len(state_park_df)"
   ]
  },
  {
   "cell_type": "markdown",
   "metadata": {},
   "source": [
    "### Drop all rows that have latitude and longtitude values being NaN"
   ]
  },
  {
   "cell_type": "code",
   "execution_count": 230,
   "metadata": {},
   "outputs": [],
   "source": [
    "state_park_df.dropna(subset=['Latitude', 'Longitude'], inplace=True)"
   ]
  },
  {
   "cell_type": "markdown",
   "metadata": {},
   "source": [
    "### Check for number of duplicate values\n"
   ]
  },
  {
   "cell_type": "code",
   "execution_count": 231,
   "metadata": {},
   "outputs": [
    {
     "data": {
      "text/plain": [
       "0"
      ]
     },
     "execution_count": 231,
     "metadata": {},
     "output_type": "execute_result"
    }
   ],
   "source": [
    "state_park_df.duplicated().sum()"
   ]
  },
  {
   "cell_type": "markdown",
   "metadata": {},
   "source": [
    "### Convert Size (ha) to float from object"
   ]
  },
  {
   "cell_type": "code",
   "execution_count": 232,
   "metadata": {},
   "outputs": [
    {
     "name": "stdout",
     "output_type": "stream",
     "text": [
      "Indexes of non-numeric values: Int64Index([2, 37, 38, 39, 243], dtype='int64')\n"
     ]
    }
   ],
   "source": [
    "numeric_col = pd.to_numeric(state_park_df['Size (ha)'], errors='coerce')\n",
    "non_numeric_indexes = state_park_df.index[numeric_col.isna()]\n",
    "print(\"Indexes of non-numeric values:\", non_numeric_indexes)"
   ]
  },
  {
   "cell_type": "code",
   "execution_count": 233,
   "metadata": {},
   "outputs": [],
   "source": [
    "state_park_df.dropna(subset=['Size (ha)'], inplace=True)"
   ]
  },
  {
   "cell_type": "code",
   "execution_count": 234,
   "metadata": {},
   "outputs": [],
   "source": [
    "state_park_df.loc[37, 'Size (ha)'] = 16"
   ]
  },
  {
   "cell_type": "code",
   "execution_count": 235,
   "metadata": {},
   "outputs": [
    {
     "data": {
      "text/plain": [
       "State Park                            California State Capitol Museum\n",
       "Classification                                          Park property\n",
       "County                                                     Sacramento\n",
       "Size (acres)                                                     40.0\n",
       "Size (ha)                                                          16\n",
       "Year established                                                 1982\n",
       "Remarks             Offers exhibits and tours of the California St...\n",
       "Latitude                                                      38.5764\n",
       "Longitude                                                   -121.4933\n",
       "Name: 37, dtype: object"
      ]
     },
     "execution_count": 235,
     "metadata": {},
     "output_type": "execute_result"
    }
   ],
   "source": [
    "state_park_df.loc[37]"
   ]
  },
  {
   "cell_type": "code",
   "execution_count": 236,
   "metadata": {},
   "outputs": [],
   "source": [
    "state_park_df['Size (ha)'] = state_park_df['Size (ha)'].astype(float)\n"
   ]
  },
  {
   "cell_type": "markdown",
   "metadata": {},
   "source": [
    "### Convert Year established to float from object"
   ]
  },
  {
   "cell_type": "code",
   "execution_count": 237,
   "metadata": {},
   "outputs": [
    {
     "name": "stdout",
     "output_type": "stream",
     "text": [
      "Indexes of non-numeric values: Int64Index([147], dtype='int64')\n"
     ]
    }
   ],
   "source": [
    "numeric_col = pd.to_numeric(state_park_df['Year established'], errors='coerce')\n",
    "non_numeric_indexes = state_park_df.index[numeric_col.isna()]\n",
    "print(\"Indexes of non-numeric values:\", non_numeric_indexes)"
   ]
  },
  {
   "cell_type": "code",
   "execution_count": 238,
   "metadata": {},
   "outputs": [
    {
     "data": {
      "text/plain": [
       "State Park                Marshall Gold Discovery State Historic Park\n",
       "Classification                                    State historic park\n",
       "County                                                      El Dorado\n",
       "Size (acres)                                                    575.0\n",
       "Size (ha)                                                       233.0\n",
       "Year established                                            1942[126]\n",
       "Remarks             Marks the discovery of gold by James W. Marsha...\n",
       "Latitude                                                         38.8\n",
       "Longitude                                                   -120.8939\n",
       "Name: 147, dtype: object"
      ]
     },
     "execution_count": 238,
     "metadata": {},
     "output_type": "execute_result"
    }
   ],
   "source": [
    "state_park_df.loc[147]"
   ]
  },
  {
   "cell_type": "code",
   "execution_count": 239,
   "metadata": {},
   "outputs": [],
   "source": [
    "state_park_df.dropna(subset=['Year established'], inplace=True)"
   ]
  },
  {
   "cell_type": "code",
   "execution_count": 240,
   "metadata": {},
   "outputs": [],
   "source": [
    "state_park_df.loc[147, 'Year established'] = 1942"
   ]
  },
  {
   "cell_type": "code",
   "execution_count": 241,
   "metadata": {},
   "outputs": [],
   "source": [
    "state_park_df['Year established'] = state_park_df['Year established'].astype(float)\n"
   ]
  },
  {
   "cell_type": "code",
   "execution_count": 242,
   "metadata": {},
   "outputs": [
    {
     "data": {
      "text/plain": [
       "State Park           object\n",
       "Classification       object\n",
       "County               object\n",
       "Size (acres)        float64\n",
       "Size (ha)           float64\n",
       "Year established    float64\n",
       "Remarks              object\n",
       "Latitude            float64\n",
       "Longitude           float64\n",
       "dtype: object"
      ]
     },
     "execution_count": 242,
     "metadata": {},
     "output_type": "execute_result"
    }
   ],
   "source": [
    "state_park_df.dtypes"
   ]
  },
  {
   "cell_type": "markdown",
   "metadata": {},
   "source": [
    "## state_park_time_date"
   ]
  },
  {
   "cell_type": "code",
   "execution_count": 243,
   "metadata": {},
   "outputs": [
    {
     "data": {
      "text/html": [
       "<div>\n",
       "<style scoped>\n",
       "    .dataframe tbody tr th:only-of-type {\n",
       "        vertical-align: middle;\n",
       "    }\n",
       "\n",
       "    .dataframe tbody tr th {\n",
       "        vertical-align: top;\n",
       "    }\n",
       "\n",
       "    .dataframe thead th {\n",
       "        text-align: right;\n",
       "    }\n",
       "</style>\n",
       "<table border=\"1\" class=\"dataframe\">\n",
       "  <thead>\n",
       "    <tr style=\"text-align: right;\">\n",
       "      <th></th>\n",
       "      <th>State Park</th>\n",
       "      <th>Date</th>\n",
       "      <th>Sunrise (Time)</th>\n",
       "      <th>Sunrise (Angle)</th>\n",
       "      <th>Sunset (Time)</th>\n",
       "      <th>Sunset (Angle)</th>\n",
       "      <th>Daylength (Length)</th>\n",
       "      <th>Daylength (Diff.)</th>\n",
       "      <th>Astronomical Twilight (Start)</th>\n",
       "      <th>Astronomical Twilight (End)</th>\n",
       "      <th>Nautical Twilight (Start)</th>\n",
       "      <th>Nautical Twilight (End)</th>\n",
       "      <th>Civil Twilight (Start)</th>\n",
       "      <th>Civil Twilight (End)</th>\n",
       "      <th>Solar Noon (Time)</th>\n",
       "      <th>Solar Noon (Angle)</th>\n",
       "      <th>Solar Noon (Mil. mi)</th>\n",
       "    </tr>\n",
       "  </thead>\n",
       "  <tbody>\n",
       "    <tr>\n",
       "      <th>0</th>\n",
       "      <td>Admiral William Standley State Recreation Area</td>\n",
       "      <td>2024-01-01</td>\n",
       "      <td>7:35 am</td>\n",
       "      <td>120</td>\n",
       "      <td>5:00 pm</td>\n",
       "      <td>240</td>\n",
       "      <td>9:25:32</td>\n",
       "      <td>+0:39</td>\n",
       "      <td>5:58 am</td>\n",
       "      <td>6:37 pm</td>\n",
       "      <td>6:31 am</td>\n",
       "      <td>6:04 pm</td>\n",
       "      <td>7:05 am</td>\n",
       "      <td>5:30 pm</td>\n",
       "      <td>12:17 pm</td>\n",
       "      <td>27.4</td>\n",
       "      <td>91.404</td>\n",
       "    </tr>\n",
       "    <tr>\n",
       "      <th>1</th>\n",
       "      <td>Admiral William Standley State Recreation Area</td>\n",
       "      <td>2024-01-02</td>\n",
       "      <td>7:35 am</td>\n",
       "      <td>120</td>\n",
       "      <td>5:01 pm</td>\n",
       "      <td>240</td>\n",
       "      <td>9:26:15</td>\n",
       "      <td>+0:42</td>\n",
       "      <td>5:58 am</td>\n",
       "      <td>6:38 pm</td>\n",
       "      <td>6:31 am</td>\n",
       "      <td>6:05 pm</td>\n",
       "      <td>7:05 am</td>\n",
       "      <td>5:31 pm</td>\n",
       "      <td>12:18 pm</td>\n",
       "      <td>27.5</td>\n",
       "      <td>91.404</td>\n",
       "    </tr>\n",
       "    <tr>\n",
       "      <th>2</th>\n",
       "      <td>Admiral William Standley State Recreation Area</td>\n",
       "      <td>2024-01-03</td>\n",
       "      <td>7:35 am</td>\n",
       "      <td>119</td>\n",
       "      <td>5:02 pm</td>\n",
       "      <td>241</td>\n",
       "      <td>9:27:01</td>\n",
       "      <td>+0:46</td>\n",
       "      <td>5:58 am</td>\n",
       "      <td>6:39 pm</td>\n",
       "      <td>6:31 am</td>\n",
       "      <td>6:06 pm</td>\n",
       "      <td>7:05 am</td>\n",
       "      <td>5:32 pm</td>\n",
       "      <td>12:18 pm</td>\n",
       "      <td>27.6</td>\n",
       "      <td>91.404</td>\n",
       "    </tr>\n",
       "    <tr>\n",
       "      <th>3</th>\n",
       "      <td>Admiral William Standley State Recreation Area</td>\n",
       "      <td>2024-01-04</td>\n",
       "      <td>7:35 am</td>\n",
       "      <td>119</td>\n",
       "      <td>5:03 pm</td>\n",
       "      <td>241</td>\n",
       "      <td>9:27:51</td>\n",
       "      <td>+0:50</td>\n",
       "      <td>5:59 am</td>\n",
       "      <td>6:39 pm</td>\n",
       "      <td>6:31 am</td>\n",
       "      <td>6:07 pm</td>\n",
       "      <td>7:05 am</td>\n",
       "      <td>5:33 pm</td>\n",
       "      <td>12:19 pm</td>\n",
       "      <td>27.7</td>\n",
       "      <td>91.405</td>\n",
       "    </tr>\n",
       "    <tr>\n",
       "      <th>4</th>\n",
       "      <td>Admiral William Standley State Recreation Area</td>\n",
       "      <td>2024-01-05</td>\n",
       "      <td>7:35 am</td>\n",
       "      <td>119</td>\n",
       "      <td>5:04 pm</td>\n",
       "      <td>241</td>\n",
       "      <td>9:28:45</td>\n",
       "      <td>+0:53</td>\n",
       "      <td>5:59 am</td>\n",
       "      <td>6:40 pm</td>\n",
       "      <td>6:31 am</td>\n",
       "      <td>6:07 pm</td>\n",
       "      <td>7:05 am</td>\n",
       "      <td>5:34 pm</td>\n",
       "      <td>12:19 pm</td>\n",
       "      <td>27.8</td>\n",
       "      <td>91.406</td>\n",
       "    </tr>\n",
       "  </tbody>\n",
       "</table>\n",
       "</div>"
      ],
      "text/plain": [
       "                                       State Park        Date Sunrise (Time)  \\\n",
       "0  Admiral William Standley State Recreation Area  2024-01-01        7:35 am   \n",
       "1  Admiral William Standley State Recreation Area  2024-01-02        7:35 am   \n",
       "2  Admiral William Standley State Recreation Area  2024-01-03        7:35 am   \n",
       "3  Admiral William Standley State Recreation Area  2024-01-04        7:35 am   \n",
       "4  Admiral William Standley State Recreation Area  2024-01-05        7:35 am   \n",
       "\n",
       "   Sunrise (Angle) Sunset (Time)  Sunset (Angle) Daylength (Length)  \\\n",
       "0              120       5:00 pm             240            9:25:32   \n",
       "1              120       5:01 pm             240            9:26:15   \n",
       "2              119       5:02 pm             241            9:27:01   \n",
       "3              119       5:03 pm             241            9:27:51   \n",
       "4              119       5:04 pm             241            9:28:45   \n",
       "\n",
       "  Daylength (Diff.) Astronomical Twilight (Start) Astronomical Twilight (End)  \\\n",
       "0             +0:39                       5:58 am                     6:37 pm   \n",
       "1             +0:42                       5:58 am                     6:38 pm   \n",
       "2             +0:46                       5:58 am                     6:39 pm   \n",
       "3             +0:50                       5:59 am                     6:39 pm   \n",
       "4             +0:53                       5:59 am                     6:40 pm   \n",
       "\n",
       "  Nautical Twilight (Start) Nautical Twilight (End) Civil Twilight (Start)  \\\n",
       "0                   6:31 am                 6:04 pm                7:05 am   \n",
       "1                   6:31 am                 6:05 pm                7:05 am   \n",
       "2                   6:31 am                 6:06 pm                7:05 am   \n",
       "3                   6:31 am                 6:07 pm                7:05 am   \n",
       "4                   6:31 am                 6:07 pm                7:05 am   \n",
       "\n",
       "  Civil Twilight (End) Solar Noon (Time)  Solar Noon (Angle)  \\\n",
       "0              5:30 pm          12:17 pm                27.4   \n",
       "1              5:31 pm          12:18 pm                27.5   \n",
       "2              5:32 pm          12:18 pm                27.6   \n",
       "3              5:33 pm          12:19 pm                27.7   \n",
       "4              5:34 pm          12:19 pm                27.8   \n",
       "\n",
       "   Solar Noon (Mil. mi)  \n",
       "0                91.404  \n",
       "1                91.404  \n",
       "2                91.404  \n",
       "3                91.405  \n",
       "4                91.406  "
      ]
     },
     "execution_count": 243,
     "metadata": {},
     "output_type": "execute_result"
    }
   ],
   "source": [
    "state_park_time_date.head()"
   ]
  },
  {
   "cell_type": "code",
   "execution_count": 244,
   "metadata": {},
   "outputs": [
    {
     "data": {
      "text/plain": [
       "State Park                        object\n",
       "Date                              object\n",
       "Sunrise (Time)                    object\n",
       "Sunrise (Angle)                    int64\n",
       "Sunset (Time)                     object\n",
       "Sunset (Angle)                     int64\n",
       "Daylength (Length)                object\n",
       "Daylength (Diff.)                 object\n",
       "Astronomical Twilight (Start)     object\n",
       "Astronomical Twilight (End)       object\n",
       "Nautical Twilight (Start)         object\n",
       "Nautical Twilight (End)           object\n",
       "Civil Twilight (Start)            object\n",
       "Civil Twilight (End)              object\n",
       "Solar Noon (Time)                 object\n",
       "Solar Noon (Angle)               float64\n",
       "Solar Noon (Mil. mi)             float64\n",
       "dtype: object"
      ]
     },
     "execution_count": 244,
     "metadata": {},
     "output_type": "execute_result"
    }
   ],
   "source": [
    "state_park_time_date.dtypes"
   ]
  },
  {
   "cell_type": "markdown",
   "metadata": {},
   "source": [
    "### Check the null value percentages of all the columns"
   ]
  },
  {
   "cell_type": "code",
   "execution_count": 245,
   "metadata": {},
   "outputs": [
    {
     "data": {
      "text/plain": [
       "State Park                       0.0\n",
       "Date                             0.0\n",
       "Sunrise (Time)                   0.0\n",
       "Sunrise (Angle)                  0.0\n",
       "Sunset (Time)                    0.0\n",
       "Sunset (Angle)                   0.0\n",
       "Daylength (Length)               0.0\n",
       "Daylength (Diff.)                0.0\n",
       "Astronomical Twilight (Start)    0.0\n",
       "Astronomical Twilight (End)      0.0\n",
       "Nautical Twilight (Start)        0.0\n",
       "Nautical Twilight (End)          0.0\n",
       "Civil Twilight (Start)           0.0\n",
       "Civil Twilight (End)             0.0\n",
       "Solar Noon (Time)                0.0\n",
       "Solar Noon (Angle)               0.0\n",
       "Solar Noon (Mil. mi)             0.0\n",
       "dtype: float64"
      ]
     },
     "execution_count": 245,
     "metadata": {},
     "output_type": "execute_result"
    }
   ],
   "source": [
    "state_park_time_date.isnull().sum()/len(state_park_time_date)"
   ]
  },
  {
   "cell_type": "markdown",
   "metadata": {},
   "source": [
    "### Check for numbe of duplicate values"
   ]
  },
  {
   "cell_type": "code",
   "execution_count": 246,
   "metadata": {},
   "outputs": [
    {
     "data": {
      "text/plain": [
       "1457"
      ]
     },
     "execution_count": 246,
     "metadata": {},
     "output_type": "execute_result"
    }
   ],
   "source": [
    "state_park_time_date.duplicated().sum()"
   ]
  },
  {
   "cell_type": "code",
   "execution_count": 247,
   "metadata": {},
   "outputs": [
    {
     "name": "stdout",
     "output_type": "stream",
     "text": [
      "Int64Index([  763,   764,   765,   766,   767,   768,   769,   770,   771,\n",
      "              772,\n",
      "            ...\n",
      "            61843, 61844, 61845, 61846, 61847, 61848, 61849, 61850, 61851,\n",
      "            61852],\n",
      "           dtype='int64', length=1457)\n"
     ]
    }
   ],
   "source": [
    "duplicate_rows = state_park_time_date[state_park_time_date.duplicated()]\n",
    "duplicate_indexes = duplicate_rows.index\n",
    "print(duplicate_indexes)"
   ]
  },
  {
   "cell_type": "code",
   "execution_count": 248,
   "metadata": {},
   "outputs": [
    {
     "name": "stdout",
     "output_type": "stream",
     "text": [
      "State Park                       Anderson Marsh State Historic Park\n",
      "Date                                                     2024-01-02\n",
      "Sunrise (Time)                                              7:29 am\n",
      "Sunrise (Angle)                                                 119\n",
      "Sunset (Time)                                               4:59 pm\n",
      "Sunset (Angle)                                                  241\n",
      "Daylength (Length)                                          9:30:27\n",
      "Daylength (Diff.)                                             +0:41\n",
      "Astronomical Twilight (Start)                               5:53 am\n",
      "Astronomical Twilight (End)                                 6:35 pm\n",
      "Nautical Twilight (Start)                                   6:26 am\n",
      "Nautical Twilight (End)                                     6:02 pm\n",
      "Civil Twilight (Start)                                      6:59 am\n",
      "Civil Twilight (End)                                        5:29 pm\n",
      "Solar Noon (Time)                                          12:14 pm\n",
      "Solar Noon (Angle)                                             28.2\n",
      "Solar Noon (Mil. mi)                                         91.404\n",
      "Name: 764, dtype: object\n",
      "\n",
      "State Park                       Anderson Marsh State Historic Park\n",
      "Date                                                     2024-01-03\n",
      "Sunrise (Time)                                              7:29 am\n",
      "Sunrise (Angle)                                                 119\n",
      "Sunset (Time)                                               5:00 pm\n",
      "Sunset (Angle)                                                  241\n",
      "Daylength (Length)                                          9:31:12\n",
      "Daylength (Diff.)                                             +0:45\n",
      "Astronomical Twilight (Start)                               5:53 am\n",
      "Astronomical Twilight (End)                                 6:36 pm\n",
      "Nautical Twilight (Start)                                   6:26 am\n",
      "Nautical Twilight (End)                                     6:03 pm\n",
      "Civil Twilight (Start)                                      6:59 am\n",
      "Civil Twilight (End)                                        5:30 pm\n",
      "Solar Noon (Time)                                          12:14 pm\n",
      "Solar Noon (Angle)                                             28.3\n",
      "Solar Noon (Mil. mi)                                         91.404\n",
      "Name: 765, dtype: object\n"
     ]
    }
   ],
   "source": [
    "print(state_park_time_date.loc[764])\n",
    "print()\n",
    "print(state_park_time_date.loc[765])"
   ]
  },
  {
   "cell_type": "markdown",
   "metadata": {},
   "source": [
    "### Convert Date to date time type from object"
   ]
  },
  {
   "cell_type": "code",
   "execution_count": 249,
   "metadata": {},
   "outputs": [
    {
     "name": "stdout",
     "output_type": "stream",
     "text": [
      "Indexes of non-date formatted values: Int64Index([], dtype='int64')\n"
     ]
    }
   ],
   "source": [
    "date_col = pd.to_datetime(state_park_time_date['Date'], errors='coerce')\n",
    "non_date_indexes = state_park_time_date.index[date_col.isna()]\n",
    "print(\"Indexes of non-date formatted values:\", non_date_indexes)"
   ]
  },
  {
   "cell_type": "code",
   "execution_count": 250,
   "metadata": {},
   "outputs": [],
   "source": [
    "state_park_time_date['Date'] = pd.to_datetime(state_park_time_date['Date'])"
   ]
  },
  {
   "cell_type": "markdown",
   "metadata": {},
   "source": [
    "### Convert Sunrise (Time) and Sunset (Time) to time type from object"
   ]
  },
  {
   "cell_type": "code",
   "execution_count": 251,
   "metadata": {},
   "outputs": [],
   "source": [
    "state_park_time_date['Sunrise (Time)'] = pd.to_datetime(state_park_time_date['Sunrise (Time)'], format='%I:%M %p').dt.time\n",
    "state_park_time_date['Sunset (Time)'] = pd.to_datetime(state_park_time_date['Sunset (Time)'], format='%I:%M %p').dt.time\n"
   ]
  },
  {
   "cell_type": "markdown",
   "metadata": {},
   "source": [
    "### Convert Daylength (Length) to int seconds from object"
   ]
  },
  {
   "cell_type": "code",
   "execution_count": 252,
   "metadata": {},
   "outputs": [],
   "source": [
    "state_park_time_date['Daylength (Length)'] = pd.to_timedelta(state_park_time_date['Daylength (Length)']).dt.total_seconds()"
   ]
  },
  {
   "cell_type": "markdown",
   "metadata": {},
   "source": [
    "### Drop irrelavant cols"
   ]
  },
  {
   "cell_type": "code",
   "execution_count": 253,
   "metadata": {},
   "outputs": [],
   "source": [
    "columns_to_keep = ['State Park', 'Date', 'Sunrise (Time)', 'Sunset (Time)', 'Daylength (Length)']\n",
    "state_park_time_date = state_park_time_date[columns_to_keep]"
   ]
  },
  {
   "cell_type": "markdown",
   "metadata": {},
   "source": [
    "### Check dfs info before saving them to csv files"
   ]
  },
  {
   "cell_type": "code",
   "execution_count": 254,
   "metadata": {},
   "outputs": [
    {
     "name": "stdout",
     "output_type": "stream",
     "text": [
      "<class 'pandas.core.frame.DataFrame'>\n",
      "Int64Index: 251 entries, 0 to 278\n",
      "Data columns (total 9 columns):\n",
      " #   Column            Non-Null Count  Dtype  \n",
      "---  ------            --------------  -----  \n",
      " 0   State Park        251 non-null    object \n",
      " 1   Classification    251 non-null    object \n",
      " 2   County            251 non-null    object \n",
      " 3   Size (acres)      251 non-null    float64\n",
      " 4   Size (ha)         251 non-null    float64\n",
      " 5   Year established  251 non-null    float64\n",
      " 6   Remarks           132 non-null    object \n",
      " 7   Latitude          251 non-null    float64\n",
      " 8   Longitude         251 non-null    float64\n",
      "dtypes: float64(5), object(4)\n",
      "memory usage: 27.7+ KB\n"
     ]
    }
   ],
   "source": [
    "state_park_df.info()"
   ]
  },
  {
   "cell_type": "code",
   "execution_count": 255,
   "metadata": {},
   "outputs": [
    {
     "name": "stdout",
     "output_type": "stream",
     "text": [
      "<class 'pandas.core.frame.DataFrame'>\n",
      "RangeIndex: 82715 entries, 0 to 82714\n",
      "Data columns (total 5 columns):\n",
      " #   Column              Non-Null Count  Dtype         \n",
      "---  ------              --------------  -----         \n",
      " 0   State Park          82715 non-null  object        \n",
      " 1   Date                82715 non-null  datetime64[ns]\n",
      " 2   Sunrise (Time)      82715 non-null  object        \n",
      " 3   Sunset (Time)       82715 non-null  object        \n",
      " 4   Daylength (Length)  82715 non-null  float64       \n",
      "dtypes: datetime64[ns](1), float64(1), object(3)\n",
      "memory usage: 3.2+ MB\n"
     ]
    }
   ],
   "source": [
    "state_park_time_date.info()"
   ]
  },
  {
   "cell_type": "markdown",
   "metadata": {},
   "source": [
    "### Number of rows deleted"
   ]
  },
  {
   "cell_type": "markdown",
   "metadata": {},
   "source": [
    "#### state_park_df"
   ]
  },
  {
   "cell_type": "code",
   "execution_count": 256,
   "metadata": {},
   "outputs": [
    {
     "data": {
      "text/plain": [
       "28"
      ]
     },
     "execution_count": 256,
     "metadata": {},
     "output_type": "execute_result"
    }
   ],
   "source": [
    "num_uncleanned_rows_state_park_df - state_park_df.shape[0]"
   ]
  },
  {
   "cell_type": "markdown",
   "metadata": {},
   "source": [
    "#### state_park_time_date"
   ]
  },
  {
   "cell_type": "code",
   "execution_count": 257,
   "metadata": {},
   "outputs": [
    {
     "data": {
      "text/plain": [
       "0"
      ]
     },
     "execution_count": 257,
     "metadata": {},
     "output_type": "execute_result"
    }
   ],
   "source": [
    "num_uncleanned_rows_state_park_time_date - state_park_time_date.shape[0]"
   ]
  },
  {
   "cell_type": "markdown",
   "metadata": {},
   "source": [
    "### Save cleaned and processed data"
   ]
  },
  {
   "cell_type": "code",
   "execution_count": 258,
   "metadata": {},
   "outputs": [],
   "source": [
    "state_park_df.to_csv('Cleaned_data/state_park_df.csv', index=False)\n",
    "state_park_time_date.to_csv('Cleaned_data/state_park_time_date.csv', index=False)"
   ]
  },
  {
   "cell_type": "code",
   "execution_count": null,
   "metadata": {},
   "outputs": [],
   "source": []
  }
 ],
 "metadata": {
  "kernelspec": {
   "display_name": "base",
   "language": "python",
   "name": "python3"
  },
  "language_info": {
   "codemirror_mode": {
    "name": "ipython",
    "version": 3
   },
   "file_extension": ".py",
   "mimetype": "text/x-python",
   "name": "python",
   "nbconvert_exporter": "python",
   "pygments_lexer": "ipython3",
   "version": "3.9.13"
  }
 },
 "nbformat": 4,
 "nbformat_minor": 2
}
